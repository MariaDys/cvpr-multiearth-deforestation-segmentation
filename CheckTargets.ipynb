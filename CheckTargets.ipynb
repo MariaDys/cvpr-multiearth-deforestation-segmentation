{
 "cells": [
  {
   "cell_type": "markdown",
   "metadata": {},
   "source": [
    "# Deforestation Dataset\n",
    "\n",
    "This notebook prepares the deforestation dataset"
   ]
  },
  {
   "cell_type": "code",
   "execution_count": null,
   "metadata": {},
   "outputs": [],
   "source": [
    "import os\n",
    "from matplotlib import pyplot as plt\n",
    "import pandas as pd\n",
    "import numpy as np\n",
    "from IPython.core.interactiveshell import InteractiveShell\n",
    "import random\n",
    "InteractiveShell.ast_node_interactivity = \"all\"\n",
    "import os\n",
    "from datetime import datetime, timedelta\n",
    "from tqdm import tqdm\n",
    "import cv2\n",
    "import glob\n",
    "\n",
    "from multiearth_challenge.datasets import segmentation_dataset as sd\n",
    "\n",
    "from multiearth_challenge.datasets import base_datasets as bd\n",
    "\n",
    "from multiearth_challenge import tiff_file_tools as tft\n",
    "\n",
    "from dateutil.relativedelta import relativedelta\n",
    "\n",
    "%matplotlib inline"
   ]
  },
  {
   "cell_type": "code",
   "execution_count": null,
   "metadata": {},
   "outputs": [],
   "source": [
    "DATA_PATH = 'data/multiearth2023-dataset-final/'\n",
    "DP_PATH = './dp'"
   ]
  },
  {
   "cell_type": "markdown",
   "metadata": {},
   "source": [
    "# FIRE Target"
   ]
  },
  {
   "cell_type": "code",
   "execution_count": null,
   "metadata": {},
   "outputs": [],
   "source": [
    "fire_target_files = glob.glob(\"data/multiearth2023-dataset-final/fire_train/Fire_ConfidenceLevel*.tiff\", recursive=True)"
   ]
  },
  {
   "cell_type": "code",
   "execution_count": null,
   "metadata": {},
   "outputs": [],
   "source": [
    "len(fire_target_files)"
   ]
  },
  {
   "cell_type": "code",
   "execution_count": null,
   "metadata": {},
   "outputs": [],
   "source": [
    "tiff_path = fire_target_files[0]\n",
    "tiff_path"
   ]
  },
  {
   "cell_type": "code",
   "execution_count": null,
   "metadata": {},
   "outputs": [],
   "source": [
    "rows = []\n",
    "for tiff_path in tqdm(fire_target_files):\n",
    "    d = tft.parse_filename_parts(tiff_path)\n",
    "    d['target_path'] = tiff_path\n",
    "    rows.append(d)\n",
    "fire_target = pd.DataFrame(rows)"
   ]
  },
  {
   "cell_type": "code",
   "execution_count": null,
   "metadata": {},
   "outputs": [],
   "source": [
    "fire_target.shape\n",
    "fire_target.head()"
   ]
  },
  {
   "cell_type": "code",
   "execution_count": null,
   "metadata": {},
   "outputs": [],
   "source": [
    "fire_target.date = pd.to_datetime(fire_target.date)\n",
    "fire_target['year'] = fire_target.date.dt.year\n",
    "fire_target['month'] = fire_target.date.dt.month\n",
    "\n",
    "fire_target = fire_target[fire_target.year >= 2013]\n",
    "fire_target = fire_target[fire_target.year <= 2020]\n",
    "\n",
    "fire_target = fire_target.sort_values(by=['year', 'month', 'lat', 'lon'])"
   ]
  },
  {
   "cell_type": "code",
   "execution_count": null,
   "metadata": {},
   "outputs": [],
   "source": [
    "for _, row in tqdm(fire_target.iterrows()):\n",
    "    img = cv2.imread(row['target_path'], -1)\n",
    "    if img.max() > 0.5:\n",
    "        1/0"
   ]
  },
  {
   "cell_type": "code",
   "execution_count": null,
   "metadata": {},
   "outputs": [],
   "source": []
  },
  {
   "cell_type": "code",
   "execution_count": null,
   "metadata": {},
   "outputs": [],
   "source": [
    "img.shape\n",
    "img.max()"
   ]
  },
  {
   "cell_type": "code",
   "execution_count": null,
   "metadata": {},
   "outputs": [],
   "source": [
    "fire_train = bd.NetCDFDataset(\n",
    "    netcdf_file=DATA_PATH + 'fire_train.nc',\n",
    "    data_filters=[],\n",
    "    merge_bands=False,\n",
    ")\n",
    "len(fire_train)"
   ]
  },
  {
   "cell_type": "markdown",
   "metadata": {},
   "source": [
    "# FOREST TARGET"
   ]
  },
  {
   "cell_type": "code",
   "execution_count": null,
   "metadata": {},
   "outputs": [],
   "source": [
    "def mask2rle(x: np.ndarray) -> str:\n",
    "    \"\"\"\n",
    "    Converts input masks into RLE-encoded strings.\n",
    "    Source:\n",
    "    https://www.kaggle.com/rakhlin/fast-run-length-encoding-python\n",
    "\n",
    "    Args:\n",
    "        x: numpy array of shape (height, width), 1 - mask, 0 - background\n",
    "    Returns:\n",
    "        RLE string\n",
    "    \"\"\"\n",
    "\n",
    "    pixels = x.T.flatten()\n",
    "    pixels = np.concatenate([[0], pixels, [0]])\n",
    "    runs = np.where(pixels[1:] != pixels[:-1])[0] + 1\n",
    "    runs[1::2] -= runs[::2]\n",
    "    return \" \".join(str(x) for x in runs)"
   ]
  },
  {
   "cell_type": "code",
   "execution_count": null,
   "metadata": {},
   "outputs": [],
   "source": [
    "rows = []\n",
    "for mode in [\"train\", \"val\", \"test\"]:\n",
    "    forest_target_files = glob.glob(f\"data/multiearth2023-dataset-final/forest_{mode}/Defores*.tiff\", recursive=True)\n",
    "    print(mode, len(forest_target_files))\n",
    "\n",
    "    for tiff_path in tqdm(forest_target_files):\n",
    "        d = tft.parse_filename_parts(tiff_path)\n",
    "        d['target_path'] = tiff_path\n",
    "        d['mode'] = mode\n",
    "        \n",
    "        img = cv2.imread(tiff_path)\n",
    "        img = img[:, :, 0]\n",
    "        d['rle'] = mask2rle(img)\n",
    "        d['img_mean'] = img.mean()\n",
    "        rows.append(d)\n",
    "forest_target = pd.DataFrame(rows)"
   ]
  },
  {
   "cell_type": "code",
   "execution_count": null,
   "metadata": {},
   "outputs": [],
   "source": [
    "roi = {(r.lat, r.lon, r.date.strftime(\"%Y-%m-%d\")) for _, r in forest_target.iterrows()}\n",
    "len(roi)"
   ]
  },
  {
   "cell_type": "code",
   "execution_count": null,
   "metadata": {},
   "outputs": [],
   "source": [
    "d['date']"
   ]
  },
  {
   "cell_type": "code",
   "execution_count": null,
   "metadata": {},
   "outputs": [],
   "source": [
    "forest_target.groupby('mode').img_mean.mean()"
   ]
  },
  {
   "cell_type": "code",
   "execution_count": null,
   "metadata": {},
   "outputs": [],
   "source": [
    "forest_target.to_csv('forest_target.csv', index=False)"
   ]
  },
  {
   "cell_type": "code",
   "execution_count": null,
   "metadata": {},
   "outputs": [],
   "source": [
    "np.mean(forest_target['img_mean'] > 0)"
   ]
  },
  {
   "cell_type": "code",
   "execution_count": null,
   "metadata": {},
   "outputs": [],
   "source": [
    "forest_target.shape\n",
    "forest_target.head()\n",
    "forest_target.tail()"
   ]
  },
  {
   "cell_type": "code",
   "execution_count": null,
   "metadata": {},
   "outputs": [],
   "source": [
    "satellite_datasets = [\n",
    "    \n",
    "]\n",
    "ds_name = 'landsat8_train.nc'"
   ]
  },
  {
   "cell_type": "code",
   "execution_count": null,
   "metadata": {},
   "outputs": [],
   "source": [
    "ds = bd.NetCDFDataset(\n",
    "    netcdf_file=DATA_PATH + ds_name,\n",
    "    data_filters=[],\n",
    "    merge_bands=False,\n",
    ")\n",
    "len(ds)"
   ]
  },
  {
   "cell_type": "code",
   "execution_count": null,
   "metadata": {},
   "outputs": [],
   "source": [
    "for i, d in tqdm(enumerate(ds)):\n",
    "    \n",
    "    band = d['bands'][0]\n",
    "    lat, lon = d['lat_lon'].round(2)\n",
    "    \n",
    "    \n",
    "    source_date = pd.to_datetime(d['date'])\n",
    "\n",
    "    m0 = datetime(source_date.year, source_date.month, 1)\n",
    "    m1 = m0 + relativedelta(months=1)\n",
    "    m2 = m0 + relativedelta(months=2)\n",
    "    \n",
    "    # Search all source images in 3 months \n",
    "    if ((lat, lon, m0.strftime(\"%Y-%m-%d\")) in roi) or \\\n",
    "        ((lat, lon, m1.strftime(\"%Y-%m-%d\")) in roi) or \\\n",
    "            ((lat, lon, m2.strftime(\"%Y-%m-%d\")) in roi):\n",
    "        img = d['image'][0]\n",
    "        os.makedirs(f\"{SOURCE_DIR}/{band}/{source_year}/\", exist_ok=True)\n",
    "        source_date = source_date.strftime(\"%Y-%m-%d\")\n",
    "        source_year = source_date[:4]\n",
    "        source_key = f\"{source}_{round(lat, 2)}_{round(lon, 2)}_{source_date}\"\n",
    "    if i > 1000:\n",
    "        1/0\n",
    "        "
   ]
  },
  {
   "cell_type": "code",
   "execution_count": null,
   "metadata": {},
   "outputs": [],
   "source": [
    "d"
   ]
  },
  {
   "cell_type": "code",
   "execution_count": null,
   "metadata": {},
   "outputs": [],
   "source": [
    "img\n",
    "\n",
    "source_date, month_start, next_month"
   ]
  },
  {
   "cell_type": "code",
   "execution_count": null,
   "metadata": {},
   "outputs": [],
   "source": []
  },
  {
   "cell_type": "code",
   "execution_count": null,
   "metadata": {},
   "outputs": [],
   "source": []
  },
  {
   "cell_type": "code",
   "execution_count": null,
   "metadata": {},
   "outputs": [],
   "source": [
    "plt.imshow()\n",
    "band§a"
   ]
  },
  {
   "cell_type": "code",
   "execution_count": null,
   "metadata": {},
   "outputs": [],
   "source": [
    "TARGET = 'deforestation'\n",
    "band = 'deforestation'\n",
    "TARGET_DIR = f\"{DP_PATH}/{TARGET}\"\n",
    "os.makedirs(TARGET_DIR, exist_ok=True)"
   ]
  },
  {
   "cell_type": "code",
   "execution_count": null,
   "metadata": {},
   "outputs": [],
   "source": [
    "rows = []\n",
    "for target_data in tqdm(forest_train):\n",
    "    lat, lon = target_data['lat_lon']\n",
    "    target_date = target_data['date']\n",
    "    target_date_str = pd.to_datetime(target_date).strftime(\"%Y-%m-%d\")\n",
    "\n",
    "    target_key = f\"{TARGET}_{round(lat, 2)}_{round(lon, 2)}_{target_date_str}\"\n",
    "    os.makedirs(f\"{TARGET_DIR}/{band}\", exist_ok=True)\n",
    "    target_path = f\"{TARGET_DIR}/{band}/{target_key}.npy\"\n",
    "    \n",
    "    img = target_data['image'][0]\n",
    "    np.save(target_path, img)\n",
    "    \n",
    "    target_mean = img.mean()\n",
    "    \n",
    "    rle = mask2rle(img)\n",
    "    \n",
    "    row = [target_path, band, lat, lon, target_date, rle, target_mean]\n",
    "    rows.append(row)"
   ]
  },
  {
   "cell_type": "code",
   "execution_count": null,
   "metadata": {},
   "outputs": [],
   "source": [
    "lat, lon = target_data['lat_lon']\n",
    "target_date = target_data['date']\n",
    "target_date_str = pd.to_datetime(target_date).strftime(\"%Y-%m-%d\")"
   ]
  },
  {
   "cell_type": "code",
   "execution_count": null,
   "metadata": {},
   "outputs": [],
   "source": [
    "pd.DataFrame(rows, columns=['target_path', 'band', 'lat', 'lon', 'target_date', 'rle', 'target_mean'])"
   ]
  },
  {
   "cell_type": "code",
   "execution_count": null,
   "metadata": {},
   "outputs": [],
   "source": [
    "img"
   ]
  },
  {
   "cell_type": "code",
   "execution_count": null,
   "metadata": {},
   "outputs": [],
   "source": [
    "img.mean()"
   ]
  },
  {
   "cell_type": "code",
   "execution_count": null,
   "metadata": {},
   "outputs": [],
   "source": [
    "mask2rle(img)"
   ]
  },
  {
   "cell_type": "code",
   "execution_count": null,
   "metadata": {},
   "outputs": [],
   "source": [
    "fs = glob.glob(\"dp/**/*.npy\", recursive=True)\n",
    "len(fs)"
   ]
  },
  {
   "cell_type": "code",
   "execution_count": null,
   "metadata": {},
   "outputs": [],
   "source": [
    "for f in fs:"
   ]
  },
  {
   "cell_type": "code",
   "execution_count": null,
   "metadata": {},
   "outputs": [],
   "source": [
    "!ls"
   ]
  },
  {
   "cell_type": "code",
   "execution_count": null,
   "metadata": {},
   "outputs": [],
   "source": [
    "ls dp"
   ]
  },
  {
   "cell_type": "code",
   "execution_count": null,
   "metadata": {},
   "outputs": [],
   "source": [
    "metas = [\n",
    "    'sat_ls8_landsat8_train_meta.csv',\n",
    "    'sat_s2_sent2_b5-b8_train_meta.csv',\n",
    "    'sat_s1_sent1_train_meta.csv',\n",
    "    'sat_s2_sent2_b9-b12_train_meta.csv',\n",
    "    'sat_s2_sent2_b1-b4_train_meta.csv',\n",
    "]\n",
    "tile_stats = pd.concat([pd.read_csv(f\"./dp/{f}\") for f in metas])"
   ]
  },
  {
   "cell_type": "code",
   "execution_count": null,
   "metadata": {},
   "outputs": [],
   "source": [
    "pd.concat([\n",
    "    tile_stats.groupby(['source', 'band']).imin.min(),\n",
    "    tile_stats.groupby(['source', 'band']).imin.mean(),\n",
    "    tile_stats.groupby(['source', 'band']).imean.mean(),\n",
    "    tile_stats.groupby(['source', 'band']).imax.mean(),\n",
    "    tile_stats.groupby(['source', 'band']).imax.max(),\n",
    "\n",
    "], axis=1)"
   ]
  },
  {
   "cell_type": "code",
   "execution_count": null,
   "metadata": {},
   "outputs": [],
   "source": [
    "tile_stats.head()"
   ]
  },
  {
   "cell_type": "code",
   "execution_count": null,
   "metadata": {},
   "outputs": [],
   "source": [
    "new_rows = []\n",
    "for _, row in tqdm(tile_stats.sample(frac=0.5).iterrows()):\n",
    "    x = np.load(row.source_path)\n",
    "    d = {\n",
    "        \"xmin\": x.min(),\n",
    "        \"p5\": np.percentile(x, 5),\n",
    "        \"p50\": np.percentile(x, 50),\n",
    "        \"xmean\": x.mean(),\n",
    "        \"p95\": np.percentile(x, 95),\n",
    "        \"xmax\": x.max(),\n",
    "        \"xstd\": x.std(),\n",
    "    }\n",
    "    new_row = row.to_dict()\n",
    "    new_row.update(d)\n",
    "    new_rows.append(new_row)"
   ]
  },
  {
   "cell_type": "code",
   "execution_count": null,
   "metadata": {},
   "outputs": [],
   "source": [
    "tile_stats.groupby(['source', 'lat', 'lon', 'source_date']).count()"
   ]
  },
  {
   "cell_type": "code",
   "execution_count": null,
   "metadata": {},
   "outputs": [],
   "source": [
    "new_stats = pd.DataFrame(new_rows)"
   ]
  },
  {
   "cell_type": "code",
   "execution_count": null,
   "metadata": {},
   "outputs": [],
   "source": [
    "new_stats.groupby(['source', 'band'])[[\n",
    "    'xmin', 'p5', 'p50', 'xmean', 'p95', 'xmax', 'xstd'\n",
    "]].mean().reset_index()"
   ]
  },
  {
   "cell_type": "code",
   "execution_count": null,
   "metadata": {},
   "outputs": [],
   "source": [
    "new_stats.groupby(['source', 'band'])[[\n",
    "    'xmin', 'p5', 'p50', 'xmean', 'p95', 'xmax', 'xstd'\n",
    "]].quantile(0.9).reset_index()"
   ]
  },
  {
   "cell_type": "code",
   "execution_count": null,
   "metadata": {},
   "outputs": [],
   "source": [
    "new_stats.groupby(['source', 'band']).p99.max()"
   ]
  },
  {
   "cell_type": "code",
   "execution_count": null,
   "metadata": {},
   "outputs": [],
   "source": [
    "forest_target.groupby(['lat', 'lon']).nunique()"
   ]
  },
  {
   "cell_type": "code",
   "execution_count": null,
   "metadata": {},
   "outputs": [],
   "source": []
  }
 ],
 "metadata": {
  "kernelspec": {
   "display_name": "Python 3 (ipykernel)",
   "language": "python",
   "name": "python3"
  },
  "language_info": {
   "codemirror_mode": {
    "name": "ipython",
    "version": 3
   },
   "file_extension": ".py",
   "mimetype": "text/x-python",
   "name": "python",
   "nbconvert_exporter": "python",
   "pygments_lexer": "ipython3",
   "version": "3.8.0"
  }
 },
 "nbformat": 4,
 "nbformat_minor": 4
}
