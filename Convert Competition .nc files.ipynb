{
 "cells": [
  {
   "cell_type": "markdown",
   "metadata": {},
   "source": [
    "# Prepare Competition .nc files\n",
    "\n",
    "This notebook contains examples for how the [ImageSegmentationDataset](https://github.com/MIT-AI-Accelerator/multiearth-challenge/blob/c2318665ab94451eea4bd1b9e31a71655c6be001/src/multiearth_challenge/datasets/segmentation_dataset.py#L9) class can be used to sample data from the NetCDF files provided as part of the MultiEarth challenge."
   ]
  },
  {
   "cell_type": "code",
   "execution_count": 1,
   "metadata": {},
   "outputs": [],
   "source": [
    "\n",
    "import os\n",
    "from matplotlib import pyplot as plt\n",
    "import pandas as pd\n",
    "import numpy as np\n",
    "from IPython.core.interactiveshell import InteractiveShell\n",
    "import random\n",
    "InteractiveShell.ast_node_interactivity = \"all\"\n",
    "import os\n",
    "from datetime import datetime, timedelta\n",
    "from tqdm import tqdm\n",
    "from multiearth_challenge.datasets import segmentation_dataset as sd\n",
    "import cv2\n",
    "\n",
    "%matplotlib inline"
   ]
  },
  {
   "cell_type": "markdown",
   "metadata": {},
   "source": [
    "### Specifying Dataset Data\n",
    "\n",
    "\n",
    "Specify the bands to include for the source data. This is set with a dictionary whose keys are the sensor and the values are a list of bands.</br>\n",
    "Acceptable sensor and band values are:</br>\n",
    "\"Landsat-5\": ['SR_B1', 'SR_B2', 'SR_B3', 'SR_B4', 'SR_B5', 'ST_B6', 'SR_B7', 'QA_PIXEL']</br>\n",
    "\"Landsat-8\": ['SR_B1', 'SR_B2', 'SR_B3', 'SR_B4', 'SR_B5', 'SR_B6', 'SR_B7', 'ST_B10', 'QA_PIXEL']</br>\n",
    "\"Sentinel-1\": ['VV', 'VH']</br>\n",
    "\"Sentinel-2\": ['B1', 'B2', 'B3', 'B4', 'B5', 'B6', 'B7', 'B8', 'B8A', 'B9', 'B11', 'B12', 'QA60']</br>\n",
    "\"Fire\": ['BurnDate', 'ConfidenceLevel', 'LandCover', 'ObservedFlag']</br>\n",
    "\"Deforestation\": None, There is only a single unnamed band associated with the deforestation data so there are no bands to select</br>\n",
    "\n",
    "The bands for the segmentation data are automatically selected for the two provided datasets. For deforestation data the one segmentation mask is selected. For fire data the \"ConfidenceLevel\" band is selected."
   ]
  },
  {
   "cell_type": "code",
   "execution_count": 2,
   "metadata": {},
   "outputs": [],
   "source": [
    "DATA_PATH = 'data/multiearth2023-dataset-final/'\n",
    "DP_PATH = './dp'\n",
    "os.makedirs(DP_PATH, exist_ok=True)"
   ]
  },
  {
   "cell_type": "code",
   "execution_count": 3,
   "metadata": {},
   "outputs": [
    {
     "data": {
      "text/plain": [
       "['sent2_b9-b12_train.nc',\n",
       " 'sent1_train.nc',\n",
       " 'landsat8_train.nc',\n",
       " 'fire_train.nc',\n",
       " 'fire_train.zip',\n",
       " 'deforestation_images.nc',\n",
       " 'deforestation_val.nc',\n",
       " 'sent2_b5-b8_train.nc',\n",
       " 'deforestation_test.zip',\n",
       " 'deforestation_train.nc',\n",
       " 'deforestation_val.zip',\n",
       " 'deforestation_test.nc',\n",
       " 'sent2_b1-b4_train.nc',\n",
       " 'deforestation_train.zip']"
      ]
     },
     "execution_count": 3,
     "metadata": {},
     "output_type": "execute_result"
    }
   ],
   "source": [
    "os.listdir(DATA_PATH)"
   ]
  },
  {
   "cell_type": "code",
   "execution_count": 4,
   "metadata": {},
   "outputs": [],
   "source": [
    "# Set data paths to sample data included as part of the MultiEarth repository\n",
    "segmentation_files = [DATA_PATH + 'fire_train.nc']\n",
    "\n",
    "\n",
    "\n",
    "\n",
    "# SOURCE = \"ls8\"\n",
    "# SOURCE = \"s1\"\n",
    "SOURCE = \"s2\"\n",
    "\n",
    "if SOURCE == \"ls8\":  # Landsat-8\n",
    "    source_files = [DATA_PATH + 'landsat8_train.nc']\n",
    "    source_bands = {\n",
    "        \"Landsat-8\":  ['SR_B1', 'SR_B2', 'SR_B3', 'SR_B4', 'SR_B5', 'SR_B6', 'SR_B7']\n",
    "    }\n",
    "elif SOURCE == \"s1\":  # Sentinel-1\n",
    "    source_files = [DATA_PATH + 'sent1_train.nc']\n",
    "    source_bands = {\n",
    "        \"Sentinel-1\": ['VV', 'VH']\n",
    "    }\n",
    "elif SOURCE == \"s2\":  # Sentinel-2\n",
    "    source_files = [\n",
    "        DATA_PATH + 'sent2_b1-b4_train.nc',\n",
    "        DATA_PATH + 'sent2_b5-b8_train.nc',\n",
    "        DATA_PATH + 'sent2_b9-b12_train.nc',\n",
    "    ]\n",
    "    source_bands = {\n",
    "        \"Sentinel-2\": ['B2', 'B3', 'B4', 'B7', 'B8', 'B11', 'B12']\n",
    "    }\n",
    "else:\n",
    "    raise ValueError(\"Unknown source\")\n",
    "\n",
    "    \n",
    "    \n",
    "SOURCE_DIR = f\"{DP_PATH}/{SOURCE}/\"\n",
    "os.makedirs(SOURCE_DIR, exist_ok=True)\n"
   ]
  },
  {
   "cell_type": "markdown",
   "metadata": {},
   "source": [
    "### Creating the Dataset\n",
    "Set additional parameters used by the ImageSegmentationDataset"
   ]
  },
  {
   "cell_type": "code",
   "execution_count": 5,
   "metadata": {},
   "outputs": [],
   "source": [
    "# If True, returned source images will have multiple channels in increasing order of frequency\n",
    "# (e.g., red, green, blue for visible), co-pol before cross-pol,\n",
    "# and with bands not originating from collected imagery coming last and in alphabetical order. \n",
    "# The metadata returned with the imagery will also specify the channel order.\n",
    "# If False, each band is treated as a separate sample.\n",
    "merge_source_bands = False # bool\n",
    "\n",
    "# The minimum and maximum allowable cloud coverage allowed in visible and IR imagery as a fraction [0, 1]. \n",
    "# Setting the maximum above 0 may be useful when incorporating SAR imagery into a multimodal model\n",
    "# where a large fraction of cloud coverage may be acceptable. \n",
    "# Similarly, evaluation in challenging cases with a minimum on the amount of cloud coverage may be desired.\n",
    "# Note, there may be some innacuracies in the identified cloud coverage provided by the sensor's QA bands.\n",
    "# This is especially true for Sentinel-2 data.\n",
    "source_cloud_coverage = (0.0, 1.0) # Tuple[float, float]\n",
    "\n",
    "# The minimum and maximum inclusive relative time window in days around the segmentation image from\n",
    "# which source imagery is pulled. \n",
    "# If the minimum is None, there is no filter on the minimum relative date.\n",
    "# Similarly, no maximum can be specified with a value of None.\n",
    "# For example, with a value of (-7, 7) only source imagery within the interval of -7 days before and 7 days after a segmentation image date will be returned as source imagery. \n",
    "source_date_window = (-32, -1) # Tuple[Optional[float], Optional[float]]\n",
    "\n",
    "# If True, for each target image only a single source image is returned in a unique pair.\n",
    "# A single source image may be paired with multiple target images and vice-versa depending on data filters applied. \n",
    "# If False, each target image is returned with all source images at the same location \n",
    "# that satisfy applied data filters. This may be useful if you want to include information\n",
    "# from multiple images when making a single segmentation prediction.\n",
    "single_source_image = True\n",
    "\n",
    "# If True, if no source or target image remain after data filtering, raise a ValueError, otherwise this dataset will have length 0. \n",
    "error_on_empty = True # bool"
   ]
  },
  {
   "cell_type": "markdown",
   "metadata": {},
   "source": [
    "Create the dataset. The sample data is small, but depending on the number of images contained in the NetCDF files, calculating the cloud coverage statistics may take several minutes."
   ]
  },
  {
   "cell_type": "code",
   "execution_count": 6,
   "metadata": {},
   "outputs": [],
   "source": [
    "dataset = sd.ImageSegmentationDataset(\n",
    "    source_files,\n",
    "    segmentation_files,\n",
    "    source_bands,\n",
    "    merge_source_bands,\n",
    "    source_cloud_coverage,\n",
    "    source_date_window,\n",
    "    single_source_image,\n",
    "    error_on_empty,\n",
    ")"
   ]
  },
  {
   "cell_type": "markdown",
   "metadata": {},
   "source": [
    "### Data Returned by the Dataset\n",
    "The dataset serves as a sequence of samples. Each call to \\_\\_getitem__ will return a two element tuple where the second element holds a dictionary with a single target image and associated metadata. The first element holds a list of dictionaries where each one holds a source image along with associated metadata at the same location that satisfies the source_date_window. If single_source_image is True, this will always be a one element list with the multiple possible pairings being returned as separate samples.\n"
   ]
  },
  {
   "cell_type": "code",
   "execution_count": 7,
   "metadata": {},
   "outputs": [
    {
     "name": "stdout",
     "output_type": "stream",
     "text": [
      "Number of dataset samples: 1871289\n",
      "Source data key values returned: dict_keys(['image', 'data_source', 'bands', 'lat_lon', 'date'])\n",
      "Target data key values returned: dict_keys(['image', 'data_source', 'bands', 'lat_lon', 'date'])\n"
     ]
    }
   ],
   "source": [
    "print(f\"Number of dataset samples: {len(dataset)}\")\n",
    "\n",
    "# Get sample with index 0\n",
    "source_data, target_data = dataset[0]\n",
    "\n",
    "# The returned source_data is a list of all data related to a target image. \n",
    "# During initialization since single_source_image was set to True, this list will always have one element.\n",
    "print(f\"Source data key values returned: {source_data[0].keys()}\")\n",
    "print(f\"Target data key values returned: {target_data.keys()}\")"
   ]
  },
  {
   "cell_type": "code",
   "execution_count": 8,
   "metadata": {},
   "outputs": [
    {
     "data": {
      "text/plain": [
       "array([[[0, 0, 0, 0, 0, 0, 0, 0, 0, 0],\n",
       "        [0, 0, 0, 0, 0, 0, 0, 0, 0, 0],\n",
       "        [0, 0, 0, 0, 0, 0, 0, 0, 0, 0],\n",
       "        [0, 0, 0, 0, 0, 0, 0, 0, 0, 0],\n",
       "        [1, 1, 1, 1, 1, 1, 1, 1, 1, 1],\n",
       "        [1, 1, 1, 1, 1, 1, 1, 1, 1, 1],\n",
       "        [1, 1, 1, 1, 1, 1, 1, 1, 1, 1],\n",
       "        [1, 1, 1, 1, 1, 1, 1, 1, 1, 1],\n",
       "        [1, 1, 1, 1, 1, 1, 1, 1, 1, 1],\n",
       "        [0, 0, 0, 1, 1, 1, 1, 1, 1, 1]]], dtype=int16)"
      ]
     },
     "execution_count": 8,
     "metadata": {},
     "output_type": "execute_result"
    },
    {
     "data": {
      "text/plain": [
       "(-4.39, -55.2, '2019-01-01', 0.57)"
      ]
     },
     "execution_count": 8,
     "metadata": {},
     "output_type": "execute_result"
    }
   ],
   "source": [
    "target_data['image']\n",
    "lat, lon = target_data['lat_lon']\n",
    "target_date = target_data['date']\n",
    "target_date_str = pd.to_datetime(target_date).strftime(\"%Y-%m-%d\")\n",
    "\n",
    "mean_burn = target_data['image'].mean()\n",
    "lat, lon, target_date_str, mean_burn"
   ]
  },
  {
   "cell_type": "code",
   "execution_count": 9,
   "metadata": {},
   "outputs": [
    {
     "data": {
      "text/plain": [
       "1"
      ]
     },
     "execution_count": 9,
     "metadata": {},
     "output_type": "execute_result"
    },
    {
     "data": {
      "text/plain": [
       "[{'image': array([[[4292, 4184, 4068, ..., 3386, 3310, 3228],\n",
       "          [4248, 4160, 4028, ..., 3598, 3528, 3470],\n",
       "          [4208, 4080, 4048, ..., 3614, 3566, 3484],\n",
       "          ...,\n",
       "          [4484, 4332, 4188, ..., 2608, 2756, 2548],\n",
       "          [4536, 4440, 4284, ..., 2460, 2684, 2822],\n",
       "          [4584, 4448, 4336, ..., 2430, 2470, 2592]]], dtype=uint16),\n",
       "  'data_source': 'Sentinel-2',\n",
       "  'bands': ['B2'],\n",
       "  'lat_lon': array([ -4.39, -55.2 ]),\n",
       "  'date': numpy.datetime64('2018-12-13T00:00:00.000000000')}]"
      ]
     },
     "execution_count": 9,
     "metadata": {},
     "output_type": "execute_result"
    }
   ],
   "source": [
    "len(source_data)\n",
    "source_data\n",
    "\n",
    "band = source_data[0]['bands'][0]"
   ]
  },
  {
   "cell_type": "code",
   "execution_count": 10,
   "metadata": {},
   "outputs": [
    {
     "name": "stderr",
     "output_type": "stream",
     "text": [
      "100%|██████████| 1871289/1871289 [1:29:31<00:00, 348.38it/s]  \n"
     ]
    }
   ],
   "source": [
    "rows = []\n",
    "for source_data, target_data in tqdm(dataset):\n",
    "    lat, lon = target_data['lat_lon']\n",
    "     \n",
    "    target_date = pd.to_datetime(target_data['date']).strftime(\"%Y-%m-%d\")\n",
    "    \n",
    "    mean_burn = target_data['image'].mean()\n",
    "    \n",
    "    d0, d1, d2 = source_data[0]['image'].shape\n",
    "    \n",
    "    band = source_data[0]['bands'][0]\n",
    "    \n",
    "    n_source = len(source_data)\n",
    "    \n",
    "    source_date = pd.to_datetime(source_data[0]['date']).strftime(\"%Y-%m-%d\")\n",
    "    \n",
    "    source_year = source_date[:4]\n",
    "    \n",
    "    os.makedirs(f\"{SOURCE_DIR}/{band}/{source_year}/\", exist_ok=True)\n",
    "    source_key = f\"{SOURCE}_{round(lat, 2)}_{round(lon, 2)}_{source_date}\"\n",
    "    \n",
    "    source_path = f\"{SOURCE_DIR}/{band}/{source_year}/{source_key}.npy\"\n",
    "    #     np.savez_compressed(source_path, s1=source_data[0]['image'])\n",
    "    np.save(source_path, source_data[0]['image'])\n",
    "\n",
    "    \n",
    "    row = [source_path, band, lat, lon, target_date, mean_burn, d0, d1, d2, source_date, n_source]\n",
    "    rows.append(row)"
   ]
  },
  {
   "cell_type": "code",
   "execution_count": 11,
   "metadata": {},
   "outputs": [],
   "source": [
    "df = pd.DataFrame(rows, columns=[\n",
    "    'source_path', 'band', 'lat', 'lon', 'target_date', 'mean_burn', 'd0', 'd1', 'd2', 'source_date', 'n_source'\n",
    "])\n",
    "df['source'] = SOURCE\n",
    "df.target_date = pd.to_datetime(df.target_date)\n",
    "df.source_date = pd.to_datetime(df.source_date)"
   ]
  },
  {
   "cell_type": "code",
   "execution_count": 12,
   "metadata": {},
   "outputs": [],
   "source": [
    "df.to_csv(f'{SOURCE}_meta.csv', index=False)"
   ]
  },
  {
   "cell_type": "code",
   "execution_count": 13,
   "metadata": {},
   "outputs": [
    {
     "data": {
      "text/html": [
       "<div>\n",
       "<style scoped>\n",
       "    .dataframe tbody tr th:only-of-type {\n",
       "        vertical-align: middle;\n",
       "    }\n",
       "\n",
       "    .dataframe tbody tr th {\n",
       "        vertical-align: top;\n",
       "    }\n",
       "\n",
       "    .dataframe thead th {\n",
       "        text-align: right;\n",
       "    }\n",
       "</style>\n",
       "<table border=\"1\" class=\"dataframe\">\n",
       "  <thead>\n",
       "    <tr style=\"text-align: right;\">\n",
       "      <th></th>\n",
       "      <th>source_path</th>\n",
       "      <th>band</th>\n",
       "      <th>lat</th>\n",
       "      <th>lon</th>\n",
       "      <th>target_date</th>\n",
       "      <th>mean_burn</th>\n",
       "      <th>d0</th>\n",
       "      <th>d1</th>\n",
       "      <th>d2</th>\n",
       "      <th>source_date</th>\n",
       "      <th>n_source</th>\n",
       "      <th>source</th>\n",
       "    </tr>\n",
       "  </thead>\n",
       "  <tbody>\n",
       "    <tr>\n",
       "      <th>0</th>\n",
       "      <td>./dp/s2//B2/2018/s2_-4.39_-55.2_2018-12-13.npy</td>\n",
       "      <td>B2</td>\n",
       "      <td>-4.39</td>\n",
       "      <td>-55.2</td>\n",
       "      <td>2019-01-01</td>\n",
       "      <td>0.57</td>\n",
       "      <td>1</td>\n",
       "      <td>256</td>\n",
       "      <td>256</td>\n",
       "      <td>2018-12-13</td>\n",
       "      <td>1</td>\n",
       "      <td>s2</td>\n",
       "    </tr>\n",
       "    <tr>\n",
       "      <th>1</th>\n",
       "      <td>./dp/s2//B2/2018/s2_-4.39_-55.2_2018-12-18.npy</td>\n",
       "      <td>B2</td>\n",
       "      <td>-4.39</td>\n",
       "      <td>-55.2</td>\n",
       "      <td>2019-01-01</td>\n",
       "      <td>0.57</td>\n",
       "      <td>1</td>\n",
       "      <td>256</td>\n",
       "      <td>256</td>\n",
       "      <td>2018-12-18</td>\n",
       "      <td>1</td>\n",
       "      <td>s2</td>\n",
       "    </tr>\n",
       "    <tr>\n",
       "      <th>2</th>\n",
       "      <td>./dp/s2//B2/2018/s2_-4.39_-55.2_2018-12-23.npy</td>\n",
       "      <td>B2</td>\n",
       "      <td>-4.39</td>\n",
       "      <td>-55.2</td>\n",
       "      <td>2019-01-01</td>\n",
       "      <td>0.57</td>\n",
       "      <td>1</td>\n",
       "      <td>256</td>\n",
       "      <td>256</td>\n",
       "      <td>2018-12-23</td>\n",
       "      <td>1</td>\n",
       "      <td>s2</td>\n",
       "    </tr>\n",
       "    <tr>\n",
       "      <th>3</th>\n",
       "      <td>./dp/s2//B2/2018/s2_-4.39_-55.2_2018-12-28.npy</td>\n",
       "      <td>B2</td>\n",
       "      <td>-4.39</td>\n",
       "      <td>-55.2</td>\n",
       "      <td>2019-01-01</td>\n",
       "      <td>0.57</td>\n",
       "      <td>1</td>\n",
       "      <td>256</td>\n",
       "      <td>256</td>\n",
       "      <td>2018-12-28</td>\n",
       "      <td>1</td>\n",
       "      <td>s2</td>\n",
       "    </tr>\n",
       "    <tr>\n",
       "      <th>4</th>\n",
       "      <td>./dp/s2//B3/2018/s2_-4.39_-55.2_2018-12-13.npy</td>\n",
       "      <td>B3</td>\n",
       "      <td>-4.39</td>\n",
       "      <td>-55.2</td>\n",
       "      <td>2019-01-01</td>\n",
       "      <td>0.57</td>\n",
       "      <td>1</td>\n",
       "      <td>256</td>\n",
       "      <td>256</td>\n",
       "      <td>2018-12-13</td>\n",
       "      <td>1</td>\n",
       "      <td>s2</td>\n",
       "    </tr>\n",
       "  </tbody>\n",
       "</table>\n",
       "</div>"
      ],
      "text/plain": [
       "                                      source_path band   lat   lon   \n",
       "0  ./dp/s2//B2/2018/s2_-4.39_-55.2_2018-12-13.npy   B2 -4.39 -55.2  \\\n",
       "1  ./dp/s2//B2/2018/s2_-4.39_-55.2_2018-12-18.npy   B2 -4.39 -55.2   \n",
       "2  ./dp/s2//B2/2018/s2_-4.39_-55.2_2018-12-23.npy   B2 -4.39 -55.2   \n",
       "3  ./dp/s2//B2/2018/s2_-4.39_-55.2_2018-12-28.npy   B2 -4.39 -55.2   \n",
       "4  ./dp/s2//B3/2018/s2_-4.39_-55.2_2018-12-13.npy   B3 -4.39 -55.2   \n",
       "\n",
       "  target_date  mean_burn  d0   d1   d2 source_date  n_source source  \n",
       "0  2019-01-01       0.57   1  256  256  2018-12-13         1     s2  \n",
       "1  2019-01-01       0.57   1  256  256  2018-12-18         1     s2  \n",
       "2  2019-01-01       0.57   1  256  256  2018-12-23         1     s2  \n",
       "3  2019-01-01       0.57   1  256  256  2018-12-28         1     s2  \n",
       "4  2019-01-01       0.57   1  256  256  2018-12-13         1     s2  "
      ]
     },
     "execution_count": 13,
     "metadata": {},
     "output_type": "execute_result"
    },
    {
     "data": {
      "text/html": [
       "<div>\n",
       "<style scoped>\n",
       "    .dataframe tbody tr th:only-of-type {\n",
       "        vertical-align: middle;\n",
       "    }\n",
       "\n",
       "    .dataframe tbody tr th {\n",
       "        vertical-align: top;\n",
       "    }\n",
       "\n",
       "    .dataframe thead th {\n",
       "        text-align: right;\n",
       "    }\n",
       "</style>\n",
       "<table border=\"1\" class=\"dataframe\">\n",
       "  <thead>\n",
       "    <tr style=\"text-align: right;\">\n",
       "      <th></th>\n",
       "      <th>source_path</th>\n",
       "      <th>band</th>\n",
       "      <th>lat</th>\n",
       "      <th>lon</th>\n",
       "      <th>target_date</th>\n",
       "      <th>mean_burn</th>\n",
       "      <th>d0</th>\n",
       "      <th>d1</th>\n",
       "      <th>d2</th>\n",
       "      <th>source_date</th>\n",
       "      <th>n_source</th>\n",
       "      <th>source</th>\n",
       "    </tr>\n",
       "  </thead>\n",
       "  <tbody>\n",
       "    <tr>\n",
       "      <th>1871284</th>\n",
       "      <td>./dp/s2//B12/2020/s2_-3.33_-54.48_2020-11-07.npy</td>\n",
       "      <td>B12</td>\n",
       "      <td>-3.33</td>\n",
       "      <td>-54.48</td>\n",
       "      <td>2020-12-01</td>\n",
       "      <td>0.22</td>\n",
       "      <td>1</td>\n",
       "      <td>256</td>\n",
       "      <td>256</td>\n",
       "      <td>2020-11-07</td>\n",
       "      <td>1</td>\n",
       "      <td>s2</td>\n",
       "    </tr>\n",
       "    <tr>\n",
       "      <th>1871285</th>\n",
       "      <td>./dp/s2//B12/2020/s2_-3.33_-54.48_2020-11-12.npy</td>\n",
       "      <td>B12</td>\n",
       "      <td>-3.33</td>\n",
       "      <td>-54.48</td>\n",
       "      <td>2020-12-01</td>\n",
       "      <td>0.22</td>\n",
       "      <td>1</td>\n",
       "      <td>256</td>\n",
       "      <td>256</td>\n",
       "      <td>2020-11-12</td>\n",
       "      <td>1</td>\n",
       "      <td>s2</td>\n",
       "    </tr>\n",
       "    <tr>\n",
       "      <th>1871286</th>\n",
       "      <td>./dp/s2//B12/2020/s2_-3.33_-54.48_2020-11-17.npy</td>\n",
       "      <td>B12</td>\n",
       "      <td>-3.33</td>\n",
       "      <td>-54.48</td>\n",
       "      <td>2020-12-01</td>\n",
       "      <td>0.22</td>\n",
       "      <td>1</td>\n",
       "      <td>256</td>\n",
       "      <td>256</td>\n",
       "      <td>2020-11-17</td>\n",
       "      <td>1</td>\n",
       "      <td>s2</td>\n",
       "    </tr>\n",
       "    <tr>\n",
       "      <th>1871287</th>\n",
       "      <td>./dp/s2//B12/2020/s2_-3.33_-54.48_2020-11-22.npy</td>\n",
       "      <td>B12</td>\n",
       "      <td>-3.33</td>\n",
       "      <td>-54.48</td>\n",
       "      <td>2020-12-01</td>\n",
       "      <td>0.22</td>\n",
       "      <td>1</td>\n",
       "      <td>256</td>\n",
       "      <td>256</td>\n",
       "      <td>2020-11-22</td>\n",
       "      <td>1</td>\n",
       "      <td>s2</td>\n",
       "    </tr>\n",
       "    <tr>\n",
       "      <th>1871288</th>\n",
       "      <td>./dp/s2//B12/2020/s2_-3.33_-54.48_2020-11-27.npy</td>\n",
       "      <td>B12</td>\n",
       "      <td>-3.33</td>\n",
       "      <td>-54.48</td>\n",
       "      <td>2020-12-01</td>\n",
       "      <td>0.22</td>\n",
       "      <td>1</td>\n",
       "      <td>256</td>\n",
       "      <td>256</td>\n",
       "      <td>2020-11-27</td>\n",
       "      <td>1</td>\n",
       "      <td>s2</td>\n",
       "    </tr>\n",
       "  </tbody>\n",
       "</table>\n",
       "</div>"
      ],
      "text/plain": [
       "                                              source_path band   lat    lon   \n",
       "1871284  ./dp/s2//B12/2020/s2_-3.33_-54.48_2020-11-07.npy  B12 -3.33 -54.48  \\\n",
       "1871285  ./dp/s2//B12/2020/s2_-3.33_-54.48_2020-11-12.npy  B12 -3.33 -54.48   \n",
       "1871286  ./dp/s2//B12/2020/s2_-3.33_-54.48_2020-11-17.npy  B12 -3.33 -54.48   \n",
       "1871287  ./dp/s2//B12/2020/s2_-3.33_-54.48_2020-11-22.npy  B12 -3.33 -54.48   \n",
       "1871288  ./dp/s2//B12/2020/s2_-3.33_-54.48_2020-11-27.npy  B12 -3.33 -54.48   \n",
       "\n",
       "        target_date  mean_burn  d0   d1   d2 source_date  n_source source  \n",
       "1871284  2020-12-01       0.22   1  256  256  2020-11-07         1     s2  \n",
       "1871285  2020-12-01       0.22   1  256  256  2020-11-12         1     s2  \n",
       "1871286  2020-12-01       0.22   1  256  256  2020-11-17         1     s2  \n",
       "1871287  2020-12-01       0.22   1  256  256  2020-11-22         1     s2  \n",
       "1871288  2020-12-01       0.22   1  256  256  2020-11-27         1     s2  "
      ]
     },
     "execution_count": 13,
     "metadata": {},
     "output_type": "execute_result"
    },
    {
     "data": {
      "text/plain": [
       "(1871289, 12)"
      ]
     },
     "execution_count": 13,
     "metadata": {},
     "output_type": "execute_result"
    }
   ],
   "source": [
    "df.head()\n",
    "df.tail()\n",
    "df.shape"
   ]
  },
  {
   "cell_type": "code",
   "execution_count": 14,
   "metadata": {},
   "outputs": [
    {
     "data": {
      "text/plain": [
       "source_path    1823052\n",
       "band                 7\n",
       "lat                 54\n",
       "lon                 29\n",
       "target_date         24\n",
       "mean_burn          894\n",
       "d0                   1\n",
       "d1                   1\n",
       "d2                   1\n",
       "source_date        284\n",
       "n_source             1\n",
       "source               1\n",
       "dtype: int64"
      ]
     },
     "execution_count": 14,
     "metadata": {},
     "output_type": "execute_result"
    }
   ],
   "source": [
    "df.nunique()"
   ]
  },
  {
   "cell_type": "code",
   "execution_count": 15,
   "metadata": {},
   "outputs": [
    {
     "data": {
      "text/html": [
       "<div>\n",
       "<style scoped>\n",
       "    .dataframe tbody tr th:only-of-type {\n",
       "        vertical-align: middle;\n",
       "    }\n",
       "\n",
       "    .dataframe tbody tr th {\n",
       "        vertical-align: top;\n",
       "    }\n",
       "\n",
       "    .dataframe thead th {\n",
       "        text-align: right;\n",
       "    }\n",
       "</style>\n",
       "<table border=\"1\" class=\"dataframe\">\n",
       "  <thead>\n",
       "    <tr style=\"text-align: right;\">\n",
       "      <th></th>\n",
       "      <th>lat</th>\n",
       "      <th>lon</th>\n",
       "      <th>target_date</th>\n",
       "      <th>mean_burn</th>\n",
       "      <th>d0</th>\n",
       "      <th>d1</th>\n",
       "      <th>d2</th>\n",
       "      <th>source_date</th>\n",
       "      <th>n_source</th>\n",
       "    </tr>\n",
       "  </thead>\n",
       "  <tbody>\n",
       "    <tr>\n",
       "      <th>count</th>\n",
       "      <td>1.871289e+06</td>\n",
       "      <td>1.871289e+06</td>\n",
       "      <td>1871289</td>\n",
       "      <td>1.871289e+06</td>\n",
       "      <td>1871289.0</td>\n",
       "      <td>1871289.0</td>\n",
       "      <td>1871289.0</td>\n",
       "      <td>1871289</td>\n",
       "      <td>1871289.0</td>\n",
       "    </tr>\n",
       "    <tr>\n",
       "      <th>mean</th>\n",
       "      <td>-3.830726e+00</td>\n",
       "      <td>-5.491150e+01</td>\n",
       "      <td>2019-12-18 20:24:03.248157440</td>\n",
       "      <td>9.136722e-01</td>\n",
       "      <td>1.0</td>\n",
       "      <td>256.0</td>\n",
       "      <td>256.0</td>\n",
       "      <td>2019-12-02 08:59:38.790021376</td>\n",
       "      <td>1.0</td>\n",
       "    </tr>\n",
       "    <tr>\n",
       "      <th>min</th>\n",
       "      <td>-4.390000e+00</td>\n",
       "      <td>-5.520000e+01</td>\n",
       "      <td>2019-01-01 00:00:00</td>\n",
       "      <td>0.000000e+00</td>\n",
       "      <td>1.0</td>\n",
       "      <td>256.0</td>\n",
       "      <td>256.0</td>\n",
       "      <td>2018-12-13 00:00:00</td>\n",
       "      <td>1.0</td>\n",
       "    </tr>\n",
       "    <tr>\n",
       "      <th>25%</th>\n",
       "      <td>-4.090000e+00</td>\n",
       "      <td>-5.512000e+01</td>\n",
       "      <td>2019-07-01 00:00:00</td>\n",
       "      <td>4.100000e-01</td>\n",
       "      <td>1.0</td>\n",
       "      <td>256.0</td>\n",
       "      <td>256.0</td>\n",
       "      <td>2019-06-11 00:00:00</td>\n",
       "      <td>1.0</td>\n",
       "    </tr>\n",
       "    <tr>\n",
       "      <th>50%</th>\n",
       "      <td>-3.810000e+00</td>\n",
       "      <td>-5.498000e+01</td>\n",
       "      <td>2019-12-01 00:00:00</td>\n",
       "      <td>1.000000e+00</td>\n",
       "      <td>1.0</td>\n",
       "      <td>256.0</td>\n",
       "      <td>256.0</td>\n",
       "      <td>2019-11-28 00:00:00</td>\n",
       "      <td>1.0</td>\n",
       "    </tr>\n",
       "    <tr>\n",
       "      <th>75%</th>\n",
       "      <td>-3.550000e+00</td>\n",
       "      <td>-5.470000e+01</td>\n",
       "      <td>2020-06-01 00:00:00</td>\n",
       "      <td>1.000000e+00</td>\n",
       "      <td>1.0</td>\n",
       "      <td>256.0</td>\n",
       "      <td>256.0</td>\n",
       "      <td>2020-05-26 00:00:00</td>\n",
       "      <td>1.0</td>\n",
       "    </tr>\n",
       "    <tr>\n",
       "      <th>max</th>\n",
       "      <td>-3.330000e+00</td>\n",
       "      <td>-5.448000e+01</td>\n",
       "      <td>2020-12-01 00:00:00</td>\n",
       "      <td>7.047000e+01</td>\n",
       "      <td>1.0</td>\n",
       "      <td>256.0</td>\n",
       "      <td>256.0</td>\n",
       "      <td>2020-11-30 00:00:00</td>\n",
       "      <td>1.0</td>\n",
       "    </tr>\n",
       "    <tr>\n",
       "      <th>std</th>\n",
       "      <td>3.104154e-01</td>\n",
       "      <td>2.239500e-01</td>\n",
       "      <td>NaN</td>\n",
       "      <td>1.861245e+00</td>\n",
       "      <td>0.0</td>\n",
       "      <td>0.0</td>\n",
       "      <td>0.0</td>\n",
       "      <td>NaN</td>\n",
       "      <td>0.0</td>\n",
       "    </tr>\n",
       "  </tbody>\n",
       "</table>\n",
       "</div>"
      ],
      "text/plain": [
       "                lat           lon                    target_date   \n",
       "count  1.871289e+06  1.871289e+06                        1871289  \\\n",
       "mean  -3.830726e+00 -5.491150e+01  2019-12-18 20:24:03.248157440   \n",
       "min   -4.390000e+00 -5.520000e+01            2019-01-01 00:00:00   \n",
       "25%   -4.090000e+00 -5.512000e+01            2019-07-01 00:00:00   \n",
       "50%   -3.810000e+00 -5.498000e+01            2019-12-01 00:00:00   \n",
       "75%   -3.550000e+00 -5.470000e+01            2020-06-01 00:00:00   \n",
       "max   -3.330000e+00 -5.448000e+01            2020-12-01 00:00:00   \n",
       "std    3.104154e-01  2.239500e-01                            NaN   \n",
       "\n",
       "          mean_burn         d0         d1         d2   \n",
       "count  1.871289e+06  1871289.0  1871289.0  1871289.0  \\\n",
       "mean   9.136722e-01        1.0      256.0      256.0   \n",
       "min    0.000000e+00        1.0      256.0      256.0   \n",
       "25%    4.100000e-01        1.0      256.0      256.0   \n",
       "50%    1.000000e+00        1.0      256.0      256.0   \n",
       "75%    1.000000e+00        1.0      256.0      256.0   \n",
       "max    7.047000e+01        1.0      256.0      256.0   \n",
       "std    1.861245e+00        0.0        0.0        0.0   \n",
       "\n",
       "                         source_date   n_source  \n",
       "count                        1871289  1871289.0  \n",
       "mean   2019-12-02 08:59:38.790021376        1.0  \n",
       "min              2018-12-13 00:00:00        1.0  \n",
       "25%              2019-06-11 00:00:00        1.0  \n",
       "50%              2019-11-28 00:00:00        1.0  \n",
       "75%              2020-05-26 00:00:00        1.0  \n",
       "max              2020-11-30 00:00:00        1.0  \n",
       "std                              NaN        0.0  "
      ]
     },
     "execution_count": 15,
     "metadata": {},
     "output_type": "execute_result"
    }
   ],
   "source": [
    "df.describe()"
   ]
  },
  {
   "cell_type": "code",
   "execution_count": 16,
   "metadata": {},
   "outputs": [
    {
     "data": {
      "text/plain": [
       "Timedelta('16 days 11:24:24.458135542')"
      ]
     },
     "execution_count": 16,
     "metadata": {},
     "output_type": "execute_result"
    }
   ],
   "source": [
    "(df.target_date - df.source_date).mean()"
   ]
  },
  {
   "cell_type": "code",
   "execution_count": 17,
   "metadata": {},
   "outputs": [
    {
     "data": {
      "text/plain": [
       "source_path    1823052\n",
       "band                 7\n",
       "lat                 54\n",
       "lon                 29\n",
       "target_date         24\n",
       "mean_burn          894\n",
       "d0                   1\n",
       "d1                   1\n",
       "d2                   1\n",
       "source_date        284\n",
       "n_source             1\n",
       "source               1\n",
       "dtype: int64"
      ]
     },
     "execution_count": 17,
     "metadata": {},
     "output_type": "execute_result"
    }
   ],
   "source": [
    "df.nunique()"
   ]
  },
  {
   "cell_type": "code",
   "execution_count": 18,
   "metadata": {},
   "outputs": [
    {
     "data": {
      "text/plain": [
       "(-55.2, -54.48)"
      ]
     },
     "execution_count": 18,
     "metadata": {},
     "output_type": "execute_result"
    },
    {
     "data": {
      "text/plain": [
       "(-4.39, -3.33)"
      ]
     },
     "execution_count": 18,
     "metadata": {},
     "output_type": "execute_result"
    },
    {
     "data": {
      "text/plain": [
       "(Timestamp('2019-01-01 00:00:00'), Timestamp('2020-12-01 00:00:00'))"
      ]
     },
     "execution_count": 18,
     "metadata": {},
     "output_type": "execute_result"
    },
    {
     "data": {
      "text/plain": [
       "(Timestamp('2018-12-13 00:00:00'), Timestamp('2020-11-30 00:00:00'))"
      ]
     },
     "execution_count": 18,
     "metadata": {},
     "output_type": "execute_result"
    }
   ],
   "source": [
    "df.lon.min(), df.lon.max()\n",
    "df.lat.min(), df.lat.max()\n",
    "df.target_date.min(), df.target_date.max()\n",
    "df.source_date.min(), df.source_date.max()"
   ]
  },
  {
   "cell_type": "markdown",
   "metadata": {},
   "source": [
    "### Image Characteristics\n",
    "The collected images may require normalization for visualization. Here we perform a simple normalization without color balancing.</br>\n",
    "Also, it should be noted that the filtering of cloudy images uses the Sentinel-2 QA band which may have inaccuracies resulting in some images with high pixel value cloud coverage obscuring land. Additional filtering or masking of cloud coverage can be applied if needed."
   ]
  },
  {
   "cell_type": "code",
   "execution_count": 19,
   "metadata": {},
   "outputs": [],
   "source": [
    "def normalize(img):\n",
    "    img = img.astype(np.float64)\n",
    "    img -= np.min(img)\n",
    "    img /= np.max(img)\n",
    "    return img"
   ]
  },
  {
   "cell_type": "code",
   "execution_count": 20,
   "metadata": {},
   "outputs": [
    {
     "data": {
      "text/plain": [
       "Text(0.5, 0.98, 'Multi-Band Example (source / target)')"
      ]
     },
     "execution_count": 20,
     "metadata": {},
     "output_type": "execute_result"
    },
    {
     "data": {
      "text/plain": [
       "Text(0.5, 1.0, \"Sentinel-2\\n['B12']\")"
      ]
     },
     "execution_count": 20,
     "metadata": {},
     "output_type": "execute_result"
    },
    {
     "data": {
      "text/plain": [
       "Text(0.5, 1.0, 'FireCCI51\\n')"
      ]
     },
     "execution_count": 20,
     "metadata": {},
     "output_type": "execute_result"
    },
    {
     "data": {
      "image/png": "[encoded data removed]",
      "text/plain": [
       "<Figure size 640x480 with 2 Axes>"
      ]
     },
     "metadata": {},
     "output_type": "display_data"
    }
   ],
   "source": [
    "fig2, axs2 = plt.subplots(1, 2)\n",
    "fig2.suptitle(\"Multi-Band Example (source / target)\")\n",
    "axs2[0].set_title(f\"{source_data[0]['data_source']}\\n{source_data[0]['bands']}\")\n",
    "_ = axs2[0].imshow(normalize(source_data[0][\"image\"][-1, :, :]))\n",
    "axs2[1].set_title(f\"{target_data['data_source']}\\n\")\n",
    "_ = axs2[1].imshow(target_data[\"image\"].squeeze(), cmap=\"gray\")"
   ]
  },
  {
   "cell_type": "markdown",
   "metadata": {},
   "source": [
    "### Closing the Datasets\n",
    "The ImageSegmentationDataset class holds open file handles to NetCDF files which need to be manually closed."
   ]
  },
  {
   "cell_type": "code",
   "execution_count": 21,
   "metadata": {},
   "outputs": [
    {
     "ename": "ZeroDivisionError",
     "evalue": "division by zero",
     "output_type": "error",
     "traceback": [
      "\u001b[0;31m---------------------------------------------------------------------------\u001b[0m",
      "\u001b[0;31mZeroDivisionError\u001b[0m                         Traceback (most recent call last)",
      "Cell \u001b[0;32mIn[21], line 1\u001b[0m\n\u001b[0;32m----> 1\u001b[0m \u001b[38;5;241;43m1\u001b[39;49m\u001b[38;5;241;43m/\u001b[39;49m\u001b[38;5;241;43m0\u001b[39;49m\n\u001b[1;32m      2\u001b[0m dataset\u001b[38;5;241m.\u001b[39mclose()\n",
      "\u001b[0;31mZeroDivisionError\u001b[0m: division by zero"
     ]
    }
   ],
   "source": [
    "1/0\n",
    "dataset.close()"
   ]
  },
  {
   "cell_type": "code",
   "execution_count": null,
   "metadata": {},
   "outputs": [],
   "source": [
    "source_data[0][\"image\"][:3, :, :].shape"
   ]
  },
  {
   "cell_type": "code",
   "execution_count": null,
   "metadata": {},
   "outputs": [],
   "source": []
  }
 ],
 "metadata": {
  "kernelspec": {
   "display_name": "Python 3 (ipykernel)",
   "language": "python",
   "name": "python3"
  },
  "language_info": {
   "codemirror_mode": {
    "name": "ipython",
    "version": 3
   },
   "file_extension": ".py",
   "mimetype": "text/x-python",
   "name": "python",
   "nbconvert_exporter": "python",
   "pygments_lexer": "ipython3",
   "version": "3.8.0"
  }
 },
 "nbformat": 4,
 "nbformat_minor": 4
}
